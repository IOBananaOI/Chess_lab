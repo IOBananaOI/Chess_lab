{
  "nbformat": 4,
  "nbformat_minor": 0,
  "metadata": {
    "colab": {
      "provenance": []
    },
    "kernelspec": {
      "name": "python3",
      "display_name": "Python 3"
    },
    "language_info": {
      "name": "python"
    }
  },
  "cells": [
    {
      "cell_type": "code",
      "source": [
        "import re"
      ],
      "metadata": {
        "id": "c_MIEs0qpd2u"
      },
      "execution_count": 1,
      "outputs": []
    },
    {
      "cell_type": "markdown",
      "source": [
        "# Parent classes"
      ],
      "metadata": {
        "id": "yipJTT0fJYzJ"
      }
    },
    {
      "cell_type": "code",
      "source": [
        "def is_available_move(c, color: str, coords: tuple, only_attack=False, pawn=False) -> bool:   \n",
        "    \"\"\"\n",
        "    Check if the given move is available.\n",
        "\n",
        "    с: instance of class Chessboard\n",
        "    coords: tuple of coordinates in format (y, x), where y - number of row, x - number of column\n",
        "    \"\"\"\n",
        "    y = coords[0]\n",
        "    x = coords[1]\n",
        "    if all([coord in range(8) for coord in coords]): # checking for going beyond the boundaries of the board\n",
        "        chessman_on_cell = c.field[y][x]\n",
        "\n",
        "        if only_attack and chessman_on_cell != \".\" and chessman_on_cell.color != color:\n",
        "            return True\n",
        "        \n",
        "        elif not only_attack and (chessman_on_cell == \".\" or chessman_on_cell.color != color) and not pawn: # If the cell is empty or there stands enemy - available move\n",
        "            return True\n",
        "        \n",
        "        elif pawn and not only_attack and chessman_on_cell == \".\":\n",
        "            return True\n",
        "    \n",
        "    return False"
      ],
      "metadata": {
        "id": "2m981HNke-jn"
      },
      "execution_count": 2,
      "outputs": []
    },
    {
      "cell_type": "code",
      "execution_count": 51,
      "metadata": {
        "id": "xI3J9-pbru91"
      },
      "outputs": [],
      "source": [
        "class Chessman:\n",
        "    \"\"\" \n",
        "    Class describes parent class for each chess pieces.\n",
        "\n",
        "    x: horizontal coord. on the chessboard;\n",
        "    y: vertical coord. on the chessboard;\n",
        "    color: color of the chessman (\"black\" or \"white\");\n",
        "    symb: symbol, which is used to visualize chessman on the chessboard;\n",
        "    \n",
        "    make_move: describes which moves chessman can make on the chessboard; description of how the figure walks\n",
        "    fill_moves_map: fills the moves_map list with available moves\n",
        "\n",
        "    \"\"\"\n",
        "    def __init__(self, x=None, y=None, color=None) -> None:\n",
        "        self.x = x\n",
        "        self.y = y\n",
        "        self.color = color\n",
        "        self.symb = None\n",
        "        self.selected = False\n",
        "        self.moves_map = []\n",
        "\n",
        "    def __str__(self):\n",
        "        return self.symb if self.color == \"black\" else self.symb.upper()\n",
        "\n",
        "    def set_color(self, color: str) -> None:\n",
        "        self.color = color\n",
        "\n",
        "    def set_y(self, y: str) -> None:\n",
        "        self.y = y\n",
        "\n",
        "    def make_move(self) -> None:\n",
        "        pass\n",
        "\n",
        "    def move_description(self) -> None:\n",
        "        pass\n",
        "\n",
        "    \n",
        "    def fill_moves_map(self, c, coords: tuple, on_own_part=None, rec_depth=0) -> None:\n",
        "        \"\"\" \n",
        "        Fill moves map of the current chessman with coords of available moves.\n",
        "\n",
        "        c: instance of class Chessboard \n",
        "        on_own_part: used only by Pawns\n",
        "        \"\"\"\n",
        "        y = coords[0]\n",
        "        x = coords[1]\n",
        "\n",
        "        # Pawn\n",
        "        if self.__class__.__name__ == \"Pawn\":\n",
        "            curr_coords = coords # coords for tracking the possible move of the chessman\n",
        "            if on_own_part is None:\n",
        "                on_own_part = self.y in range(4) if self.color == 'white' else self.y in range(5, 8) # check if the pawn on his half of board, only if the variable was not passed\n",
        "\n",
        "            if rec_depth == 0:\n",
        "                for attack_coords in self.attack():\n",
        "                    if is_available_move(c=c, color=self.color, coords=attack_coords, only_attack=True, pawn=True):\n",
        "                        self.moves_map.append(attack_coords)\n",
        "\n",
        "            if is_available_move(c=c, color=self.color, coords=self.move_coords(curr_coords), pawn=True):\n",
        "                curr_coords = self.move_coords(curr_coords)   \n",
        "                self.moves_map.append(curr_coords)\n",
        "                if on_own_part:\n",
        "                    self.fill_moves_map(c=c, coords=curr_coords, on_own_part=False, rec_depth=1)\n",
        "\n",
        "\n",
        "    def get_moves_map(self, c):\n",
        "        \"\"\"\n",
        "        Show available moves in format Letter Number.\n",
        "\n",
        "        c: Chessboard\n",
        "        \"\"\"\n",
        "        if len(self.moves_map) < 1:\n",
        "            return \"No available moves\"\n",
        "        else:\n",
        "            return [c.convert_idx2letters(move_coord) for move_coord in self.moves_map]"
      ]
    },
    {
      "cell_type": "markdown",
      "source": [
        "## Chessman's child classes"
      ],
      "metadata": {
        "id": "G33ga9fzKdpE"
      }
    },
    {
      "cell_type": "code",
      "source": [
        "class Pawn(Chessman):\n",
        "    def __init__(self, x=None, y=None, color=None) -> None:\n",
        "        self.x = x\n",
        "        self.y = y\n",
        "        self.color = color\n",
        "        self.symb = 'p'\n",
        "        self.direction = 1 if self.color == \"white\" else -1 # white chessmen on the board go down, black - up\n",
        "        self.moves_map = [] # list contains all coords in tuple format (y, x), with cells where the chessman can move\n",
        "\n",
        "    def move_coords(self, coords: tuple) -> tuple:\n",
        "        \"\"\"\n",
        "        One cell forward.\n",
        "\n",
        "        coords: coords in tuple format (y, x)\n",
        "        \"\"\"\n",
        "        y = coords[0] + self.direction\n",
        "        x = coords[1]\n",
        "        return (y, x)\n",
        "\n",
        "    def attack(self):\n",
        "        \"\"\"\n",
        "        Attack possibility description.\n",
        "        \"\"\"\n",
        "        return [(self.y + self.direction, self.x + self.direction), (self.y + self.direction, self.x - self.direction)]"
      ],
      "metadata": {
        "id": "7rSYG4GOKcK6"
      },
      "execution_count": 52,
      "outputs": []
    },
    {
      "cell_type": "code",
      "source": [
        "class Rook(Chessman):\n",
        "    def __init__(self, x=None, y=None, color=None) -> None:\n",
        "        self.x = x\n",
        "        self.y = y\n",
        "        self.color = color\n",
        "        self.symb = 'r'"
      ],
      "metadata": {
        "id": "_J5y_pcdKxmI"
      },
      "execution_count": 53,
      "outputs": []
    },
    {
      "cell_type": "code",
      "source": [
        "class Knight(Chessman):\n",
        "    def __init__(self, x=None, y=None, color=None) -> None:\n",
        "        self.x = x\n",
        "        self.y = y\n",
        "        self.color = color\n",
        "        self.symb = 'n'"
      ],
      "metadata": {
        "id": "HFqqpYM-KzuB"
      },
      "execution_count": 54,
      "outputs": []
    },
    {
      "cell_type": "code",
      "source": [
        "class Bishop(Chessman):\n",
        "    def __init__(self, x=None, y=None, color=None) -> None:\n",
        "        self.x = x\n",
        "        self.y = y\n",
        "        self.color = color\n",
        "        self.symb = 'b'"
      ],
      "metadata": {
        "id": "JvnhAB8pLI34"
      },
      "execution_count": 55,
      "outputs": []
    },
    {
      "cell_type": "code",
      "source": [
        "class King(Chessman):\n",
        "    def __init__(self, x=None, y=None, color=None) -> None:\n",
        "        self.x = x\n",
        "        self.y = y\n",
        "        self.color = color\n",
        "        self.symb = 'k'\n",
        "\n",
        "        self.in_danger = False # If any enemy chessman can attack the king on the next turn"
      ],
      "metadata": {
        "id": "vzRpZ6bLLWzp"
      },
      "execution_count": 56,
      "outputs": []
    },
    {
      "cell_type": "code",
      "source": [
        "class Queen(Chessman):\n",
        "    def __init__(self, x=None, y=None, color=None) -> None:\n",
        "        self.x = x\n",
        "        self.y = y\n",
        "        self.color = color\n",
        "        self.symb = 'q'"
      ],
      "metadata": {
        "id": "WqC_UKr-LcCl"
      },
      "execution_count": 57,
      "outputs": []
    },
    {
      "cell_type": "markdown",
      "source": [
        "# Chessboard class"
      ],
      "metadata": {
        "id": "jyts9s7RU31W"
      }
    },
    {
      "cell_type": "code",
      "source": [
        "class Chessboard:\n",
        "    \"\"\"\n",
        "    Class describes properties of the chessboard and its connection with chess pieces.\n",
        "\n",
        "    field: first dimension is rows, second - columns. Contains blank squares (.) and pieces, each chessman in this list is an instance of the corresponding class;\n",
        "\n",
        "    \"\"\"\n",
        "\n",
        "    def __init__(self) -> None:\n",
        "        self.field = [[\".\" for _ in range(8)] for _ in range(8)]\n",
        "        \n",
        "        self.letters2idx = {'A': 0, 'B': 1, 'C': 2, 'D': 3, 'E': 4, 'F': 5, 'G': 6, 'H': 7} # dict for converting letters on the board to list's columns indexes\n",
        "        self.nums2idx = dict(zip([str(8-i) for i in range(8)], [i for i in range(8)])) # dict for converting nums on the board to list's rows indexes\n",
        "\n",
        "        self.idx2letters = {v:k for k, v in self.letters2idx.items()} # dict for converting list's columns indexes to letters on the board   \n",
        "        self.idx2nums = {v:k for k, v in self.nums2idx.items()} # dict for converting list's rows indexes to nums on the board  \n",
        "\n",
        "        self.current_color = 'white' # color whose turn it is to make a move\n",
        "\n",
        "        self.b_king = None # Black King class instance\n",
        "        self.w_king = None # White King class instance\n",
        "\n",
        "        def fill_field() -> None:\n",
        "            \"\"\"\n",
        "            Fill the chessboard with the pieces of both colors.\n",
        "            \"\"\"\n",
        "\n",
        "            for color in [\"black\", \"white\"]:\n",
        "                sp_line_idx, pawns_line_idx = (0, 1) if color == \"white\" else (7, 6) # Define the indexes of pawns' line and special line according to the color\n",
        "\n",
        "                king = King(x=4) # Create king instance for variable b_-/w_king\n",
        "\n",
        "                if color == \"black\":\n",
        "                    self.b_king = king\n",
        "                else:\n",
        "                    self.w_king = king\n",
        "\n",
        "                pawns = [Pawn(x=x, y=pawns_line_idx, color=color) for x in range(8)]\n",
        "\n",
        "                sec_line = [Rook(x=0), Knight(x=1), Bishop(x=2), Queen(x=3), king, Bishop(x=5), Knight(x=6), Rook(x=7)]\n",
        "\n",
        "                for f in sec_line: # set color and y-coord for all 'special' chessmen\n",
        "                    f.set_color(color)\n",
        "                    f.set_y(sp_line_idx)\n",
        "\n",
        "\n",
        "                self.field[sp_line_idx], self.field[pawns_line_idx] = sec_line, pawns\n",
        "        \n",
        "        fill_field()\n",
        "\n",
        "\n",
        "    def convert_letters2idx(self, letters: str):\n",
        "        \"\"\"\n",
        "        Converts coords from format XN to format (y_field, x_field) (where X - letter, N - number)\n",
        "        \"\"\"\n",
        "        x_field = self.letters2idx[letters[0]]\n",
        "        y_field = self.nums2idx[letters[1]]\n",
        "\n",
        "        return (y_field, x_field)\n",
        "\n",
        "    \n",
        "    def convert_idx2letters(self, coords: tuple):\n",
        "        \"\"\"\n",
        "        Converts coords from format (y_field, x_field) to format XN (where X - letter, N - number)\n",
        "        \"\"\"\n",
        "        letter = self.idx2letters[coords[1]]\n",
        "        num = self.idx2nums[coords[0]]\n",
        "\n",
        "        return letter+num\n",
        "\n",
        "\n",
        "    def show_desk(self) -> None:\n",
        "        \"\"\" \n",
        "        Show the current state of the chessboard. \n",
        "        \"\"\"\n",
        "\n",
        "        print(\"   A B C D E F G H\")\n",
        "        print()\n",
        "        for i in range(len(self.field)):\n",
        "            print(f\"{8-i}\", end=\"  \")\n",
        "            for j in range(len(self.field[i])):\n",
        "                print(self.field[i][j], end=\" \")\n",
        "            print(\"\", end=\" \")\n",
        "            print(f\"{8-i}\")\n",
        "        print()\n",
        "        print(\"   A B C D E F G H\",)\n",
        "\n",
        "    \n",
        "    def validate_the_input(self, cell: str) -> tuple:\n",
        "        \"\"\"\n",
        "        Return True if the input is valid, False otherwise. \n",
        "        \"\"\"\n",
        "        prog = re.compile(\"[1-8A-Ha-h]\")\n",
        "        cell = prog.findall(cell)\n",
        "\n",
        "        return len(cell) == 2 and (cell[0].isdigit() and cell[1].isalpha() or # check if the entered data is valid\n",
        "                                    cell[1].isdigit() and cell[0].isalpha())\n",
        "\n",
        "\n",
        "\n",
        "    def select_the_chessman(self) -> Chessman:\n",
        "        \"\"\" \n",
        "        Describes chessman selection mechanism. \n",
        "        \"\"\"\n",
        "\n",
        "        try:\n",
        "            cell = input(\"Enter the coordinates of the cell separated by a space in format 'Letter Number': \")\n",
        "            if cell == \"exit\": return # exit from the game\n",
        " \n",
        "            assert self.validate_the_input(cell) == True # check if the entered data is valid\n",
        "\n",
        "            b_n, b_l = (cell[0], cell[1]) if cell[0].isdigit() else (cell[1], cell[0]) # number, letter of the cell\n",
        "\n",
        "            row_idx, col_idx = self.nums2idx[b_n], self.letters2idx[b_l.upper()] # converting number and letter to corresponding indexes\n",
        "\n",
        "            selected_ch = self.field[row_idx][col_idx] # get the chessman from field\n",
        "\n",
        "            assert selected_ch != '.' and selected_ch.color == self.current_color # check if empty cell or chessman of opponent was selected\n",
        "\n",
        "        except AssertionError:\n",
        "            print(\"Incorrect data entered.\")\n",
        "            return self.select_the_chessman()\n",
        "\n",
        "        selected_ch.moves_map = []\n",
        "        selected_ch.fill_moves_map(self, (row_idx, col_idx))\n",
        "        print(selected_ch.moves_map)\n",
        "\n",
        "        return selected_ch\n",
        "\n",
        "    \n",
        "    def move_the_chessman(self, c: Chessman, coords: tuple) -> None:\n",
        "        \"\"\"\n",
        "        Moves selected chessman on the given cell.\n",
        "\n",
        "        coords: (y, x)\n",
        "        \"\"\"\n",
        "        self.field[coords[0]][coords[1]] = c\n",
        "        self.field[c.y][c.x] = '.'\n",
        "        c.y = coords[0]\n",
        "        c.x = coords[1]\n",
        "\n",
        "\n",
        "    def get_chessmen_of_color(self, color: str) -> list:\n",
        "        \"\"\"\n",
        "        Returns list of all chessmen of the given color.\n",
        "        \"\"\"\n",
        "        return [ch for row in self.field for ch in row if ch != '.' and ch.color == color]\n",
        "\n",
        "\n",
        "    def check_for_a_check(self, king:King) -> bool:\n",
        "        \"\"\"\n",
        "        Checks if the given king in danger (can be attacked on the next turn)\n",
        "        \"\"\"\n",
        "\n",
        "        king_coords = (king.y, king.x) # get the coords of king\n",
        "        king.move_description(self) # fill the moves_map of the current_king\n",
        "        \n",
        "        enemy_color = \"black\" if self.current_color == \"white\" else \"white\"\n",
        "        \n",
        "        enemy_chessmen = self.get_chessmen_of_color(enemy_color) # get full list of enemies for current_king\n",
        "        \n",
        "        enemies_moves_map = []\n",
        "\n",
        "        for enemy in enemy_chessmen:\n",
        "            enemy.fill_moves_map(self, (enemy.y, enemy.x))\n",
        "            enemies_moves_map = enemies_moves_map + enemy.moves_map # fill full enemy moves map\n",
        "        \n",
        "        return king_coords in enemies_moves_map # if king's coords is in enemies_moves_map, king can be attacked on the next turn ('check' in chess)\n",
        "\n",
        "\n",
        "\n",
        "    def turn(self) -> None:\n",
        "        \"\"\"\n",
        "        The course of each turn.\n",
        "        \"\"\"\n",
        "\n",
        "        # Step 0: Checkmate check\n",
        "\n",
        "        curr_king = self.b_king if self.current_color == \"black\" else self.w_king\n",
        "\n",
        "        \n",
        "\n",
        "        # Step 1: Show the current state of the desk.\n",
        "\n",
        "        self.show_desk()\n",
        "\n",
        "\n",
        "        # Step 2: Choose the chessman.\n",
        "        \n",
        "        selected_ch = self.select_the_chessman()\n",
        "\n",
        "        chosen_cell = \"\"\n",
        "\n",
        "        while not(self.validate_the_input(chosen_cell) and chosen_cell in selected_ch.get_moves_map(self)): # check if the entered data is valid\n",
        "            chosen_cell = input(f\"Choose cell from the following: {selected_ch.get_moves_map(self)}. \") \n",
        "\n",
        "\n",
        "        # Step 3: Move the selected chessman on the chosen cell.\n",
        "        \n",
        "        coords = self.convert_letters2idx(chosen_cell)\n",
        "        self.move_the_chessman(selected_ch, coords)\n",
        "\n",
        "        # Step 4: Pass the move next player\n",
        "\n",
        "        self.current_color = \"white\" if self.current_color == \"black\" else \"black\""
      ],
      "metadata": {
        "id": "sp14kMgfQyQk"
      },
      "execution_count": 58,
      "outputs": []
    },
    {
      "cell_type": "code",
      "source": [
        "d = Chessboard()\n",
        "while True:\n",
        "    d.turn()"
      ],
      "metadata": {
        "colab": {
          "base_uri": "https://localhost:8080/",
          "height": 606
        },
        "id": "-s5rCZpZRNt4",
        "outputId": "9a488afb-10a6-4e32-ecfc-5aa2feb930ba"
      },
      "execution_count": 59,
      "outputs": [
        {
          "name": "stdout",
          "output_type": "stream",
          "text": [
            "   A B C D E F G H\n",
            "\n",
            "8  R N B Q K B N R  8\n",
            "7  P P P P P P P P  7\n",
            "6  . . . . . . . .  6\n",
            "5  . . . . . . . .  5\n",
            "4  . . . . . . . .  4\n",
            "3  . . . . . . . .  3\n",
            "2  p p p p p p p p  2\n",
            "1  r n b q k b n r  1\n",
            "\n",
            "   A B C D E F G H\n",
            "Enter the coordinates of the cell separated by a space in format 'Letter Number': A7\n",
            "[(2, 0), (3, 0)]\n",
            "Choose cell from the following: ['A6', 'A5']. exit\n"
          ]
        },
        {
          "output_type": "error",
          "ename": "KeyboardInterrupt",
          "evalue": "ignored",
          "traceback": [
            "\u001b[0;31m---------------------------------------------------------------------------\u001b[0m",
            "\u001b[0;31mKeyboardInterrupt\u001b[0m                         Traceback (most recent call last)",
            "\u001b[0;32m<ipython-input-59-496ded7b7eec>\u001b[0m in \u001b[0;36m<module>\u001b[0;34m\u001b[0m\n\u001b[1;32m      1\u001b[0m \u001b[0md\u001b[0m \u001b[0;34m=\u001b[0m \u001b[0mChessboard\u001b[0m\u001b[0;34m(\u001b[0m\u001b[0;34m)\u001b[0m\u001b[0;34m\u001b[0m\u001b[0;34m\u001b[0m\u001b[0m\n\u001b[1;32m      2\u001b[0m \u001b[0;32mwhile\u001b[0m \u001b[0;32mTrue\u001b[0m\u001b[0;34m:\u001b[0m\u001b[0;34m\u001b[0m\u001b[0;34m\u001b[0m\u001b[0m\n\u001b[0;32m----> 3\u001b[0;31m     \u001b[0md\u001b[0m\u001b[0;34m.\u001b[0m\u001b[0mturn\u001b[0m\u001b[0;34m(\u001b[0m\u001b[0;34m)\u001b[0m\u001b[0;34m\u001b[0m\u001b[0;34m\u001b[0m\u001b[0m\n\u001b[0m",
            "\u001b[0;32m<ipython-input-58-d8e8735b9080>\u001b[0m in \u001b[0;36mturn\u001b[0;34m(self)\u001b[0m\n\u001b[1;32m    191\u001b[0m \u001b[0;34m\u001b[0m\u001b[0m\n\u001b[1;32m    192\u001b[0m         \u001b[0;32mwhile\u001b[0m \u001b[0;32mnot\u001b[0m\u001b[0;34m(\u001b[0m\u001b[0mself\u001b[0m\u001b[0;34m.\u001b[0m\u001b[0mvalidate_the_input\u001b[0m\u001b[0;34m(\u001b[0m\u001b[0mchosen_cell\u001b[0m\u001b[0;34m)\u001b[0m \u001b[0;32mand\u001b[0m \u001b[0mchosen_cell\u001b[0m \u001b[0;32min\u001b[0m \u001b[0mselected_ch\u001b[0m\u001b[0;34m.\u001b[0m\u001b[0mget_moves_map\u001b[0m\u001b[0;34m(\u001b[0m\u001b[0mself\u001b[0m\u001b[0;34m)\u001b[0m\u001b[0;34m)\u001b[0m\u001b[0;34m:\u001b[0m \u001b[0;31m# check if the entered data is valid\u001b[0m\u001b[0;34m\u001b[0m\u001b[0;34m\u001b[0m\u001b[0m\n\u001b[0;32m--> 193\u001b[0;31m             \u001b[0mchosen_cell\u001b[0m \u001b[0;34m=\u001b[0m \u001b[0minput\u001b[0m\u001b[0;34m(\u001b[0m\u001b[0;34mf\"Choose cell from the following: {selected_ch.get_moves_map(self)}. \"\u001b[0m\u001b[0;34m)\u001b[0m\u001b[0;34m\u001b[0m\u001b[0;34m\u001b[0m\u001b[0m\n\u001b[0m\u001b[1;32m    194\u001b[0m \u001b[0;34m\u001b[0m\u001b[0m\n\u001b[1;32m    195\u001b[0m \u001b[0;34m\u001b[0m\u001b[0m\n",
            "\u001b[0;32m/usr/local/lib/python3.9/dist-packages/ipykernel/kernelbase.py\u001b[0m in \u001b[0;36mraw_input\u001b[0;34m(self, prompt)\u001b[0m\n\u001b[1;32m    858\u001b[0m                 \u001b[0;34m\"raw_input was called, but this frontend does not support input requests.\"\u001b[0m\u001b[0;34m\u001b[0m\u001b[0;34m\u001b[0m\u001b[0m\n\u001b[1;32m    859\u001b[0m             )\n\u001b[0;32m--> 860\u001b[0;31m         return self._input_request(str(prompt),\n\u001b[0m\u001b[1;32m    861\u001b[0m             \u001b[0mself\u001b[0m\u001b[0;34m.\u001b[0m\u001b[0m_parent_ident\u001b[0m\u001b[0;34m,\u001b[0m\u001b[0;34m\u001b[0m\u001b[0;34m\u001b[0m\u001b[0m\n\u001b[1;32m    862\u001b[0m             \u001b[0mself\u001b[0m\u001b[0;34m.\u001b[0m\u001b[0m_parent_header\u001b[0m\u001b[0;34m,\u001b[0m\u001b[0;34m\u001b[0m\u001b[0;34m\u001b[0m\u001b[0m\n",
            "\u001b[0;32m/usr/local/lib/python3.9/dist-packages/ipykernel/kernelbase.py\u001b[0m in \u001b[0;36m_input_request\u001b[0;34m(self, prompt, ident, parent, password)\u001b[0m\n\u001b[1;32m    902\u001b[0m             \u001b[0;32mexcept\u001b[0m \u001b[0mKeyboardInterrupt\u001b[0m\u001b[0;34m:\u001b[0m\u001b[0;34m\u001b[0m\u001b[0;34m\u001b[0m\u001b[0m\n\u001b[1;32m    903\u001b[0m                 \u001b[0;31m# re-raise KeyboardInterrupt, to truncate traceback\u001b[0m\u001b[0;34m\u001b[0m\u001b[0;34m\u001b[0m\u001b[0m\n\u001b[0;32m--> 904\u001b[0;31m                 \u001b[0;32mraise\u001b[0m \u001b[0mKeyboardInterrupt\u001b[0m\u001b[0;34m(\u001b[0m\u001b[0;34m\"Interrupted by user\"\u001b[0m\u001b[0;34m)\u001b[0m \u001b[0;32mfrom\u001b[0m \u001b[0;32mNone\u001b[0m\u001b[0;34m\u001b[0m\u001b[0;34m\u001b[0m\u001b[0m\n\u001b[0m\u001b[1;32m    905\u001b[0m             \u001b[0;32mexcept\u001b[0m \u001b[0mException\u001b[0m \u001b[0;32mas\u001b[0m \u001b[0me\u001b[0m\u001b[0;34m:\u001b[0m\u001b[0;34m\u001b[0m\u001b[0;34m\u001b[0m\u001b[0m\n\u001b[1;32m    906\u001b[0m                 \u001b[0mself\u001b[0m\u001b[0;34m.\u001b[0m\u001b[0mlog\u001b[0m\u001b[0;34m.\u001b[0m\u001b[0mwarning\u001b[0m\u001b[0;34m(\u001b[0m\u001b[0;34m\"Invalid Message:\"\u001b[0m\u001b[0;34m,\u001b[0m \u001b[0mexc_info\u001b[0m\u001b[0;34m=\u001b[0m\u001b[0;32mTrue\u001b[0m\u001b[0;34m)\u001b[0m\u001b[0;34m\u001b[0m\u001b[0;34m\u001b[0m\u001b[0m\n",
            "\u001b[0;31mKeyboardInterrupt\u001b[0m: Interrupted by user"
          ]
        }
      ]
    },
    {
      "cell_type": "code",
      "source": [
        "d.field[7][0]"
      ],
      "metadata": {
        "id": "zdzKAFxyNgYB"
      },
      "execution_count": null,
      "outputs": []
    },
    {
      "cell_type": "code",
      "source": [
        "print(d.convert_idx2letters((7, 0)))"
      ],
      "metadata": {
        "id": "pT67B19B5nG6"
      },
      "execution_count": null,
      "outputs": []
    },
    {
      "cell_type": "code",
      "source": [],
      "metadata": {
        "id": "n6Qe-KgzUP8f"
      },
      "execution_count": null,
      "outputs": []
    }
  ]
}