{
  "nbformat": 4,
  "nbformat_minor": 0,
  "metadata": {
    "colab": {
      "provenance": []
    },
    "kernelspec": {
      "name": "python3",
      "display_name": "Python 3"
    },
    "language_info": {
      "name": "python"
    }
  },
  "cells": [
    {
      "cell_type": "markdown",
      "source": [
        "# Parent classes"
      ],
      "metadata": {
        "id": "yipJTT0fJYzJ"
      }
    },
    {
      "cell_type": "code",
      "execution_count": 71,
      "metadata": {
        "id": "xI3J9-pbru91"
      },
      "outputs": [],
      "source": [
        "class Chessman:\n",
        "    \"\"\" \n",
        "    Class describes parent class for each chess pieces.\n",
        "\n",
        "    x = horizontal coord. on the chessboard;\n",
        "    y = vertical coord. on the chessboard;\n",
        "    color = color of the chessman (\"black\" or \"white\");\n",
        "    symb = symbol, which is used to visualize chessman on the chessboard;\n",
        "    \n",
        "    make_move: describes which moves chessman can make on the chessboard; description of how the figure walks\n",
        "\n",
        "    \"\"\"\n",
        "    def __init__(self, x=None, y=None, color=None) -> None:\n",
        "        self.x = x\n",
        "        self.y = y\n",
        "        self.color = color\n",
        "        self.symb = None\n",
        "\n",
        "    def __str__(self):\n",
        "        return self.symb if self.color == \"black\" else self.symb.upper()\n",
        "\n",
        "    def set_color(self, color: str) -> None:\n",
        "        self.color = color\n",
        "\n",
        "    def set_y(self, y: str) -> None:\n",
        "        self.y = y\n",
        "\n",
        "    def make_move(self) -> None:\n",
        "        pass"
      ]
    },
    {
      "cell_type": "markdown",
      "source": [
        "## Chessman's child classes"
      ],
      "metadata": {
        "id": "G33ga9fzKdpE"
      }
    },
    {
      "cell_type": "code",
      "source": [
        "class Pawn(Chessman):\n",
        "    def __init__(self, x=None, y=None, color=None) -> None:\n",
        "        self.x = x\n",
        "        self.y = y\n",
        "        self.color = color\n",
        "        self.symb = 'p'"
      ],
      "metadata": {
        "id": "7rSYG4GOKcK6"
      },
      "execution_count": 80,
      "outputs": []
    },
    {
      "cell_type": "code",
      "source": [
        "class Rook(Chessman):\n",
        "    def __init__(self, x=None, y=None, color=None) -> None:\n",
        "        self.x = x\n",
        "        self.y = y\n",
        "        self.color = color\n",
        "        self.symb = 'r'"
      ],
      "metadata": {
        "id": "_J5y_pcdKxmI"
      },
      "execution_count": 81,
      "outputs": []
    },
    {
      "cell_type": "code",
      "source": [
        "class Knight(Chessman):\n",
        "    def __init__(self, x=None, y=None, color=None) -> None:\n",
        "        self.x = x\n",
        "        self.y = y\n",
        "        self.color = color\n",
        "        self.symb = 'n'"
      ],
      "metadata": {
        "id": "HFqqpYM-KzuB"
      },
      "execution_count": 82,
      "outputs": []
    },
    {
      "cell_type": "code",
      "source": [
        "class Bishop(Chessman):\n",
        "    def __init__(self, x=None, y=None, color=None) -> None:\n",
        "        self.x = x\n",
        "        self.y = y\n",
        "        self.color = color\n",
        "        self.symb = 'b'"
      ],
      "metadata": {
        "id": "JvnhAB8pLI34"
      },
      "execution_count": 83,
      "outputs": []
    },
    {
      "cell_type": "code",
      "source": [
        "class King(Chessman):\n",
        "    def __init__(self, x=None, y=None, color=None) -> None:\n",
        "        self.x = x\n",
        "        self.y = y\n",
        "        self.color = color\n",
        "        self.symb = 'k'"
      ],
      "metadata": {
        "id": "vzRpZ6bLLWzp"
      },
      "execution_count": 84,
      "outputs": []
    },
    {
      "cell_type": "code",
      "source": [
        "class Queen(Chessman):\n",
        "    def __init__(self, x=None, y=None, color=None) -> None:\n",
        "        self.x = x\n",
        "        self.y = y\n",
        "        self.color = color\n",
        "        self.symb = 'q'"
      ],
      "metadata": {
        "id": "WqC_UKr-LcCl"
      },
      "execution_count": 85,
      "outputs": []
    },
    {
      "cell_type": "markdown",
      "source": [
        "# Chessboard class"
      ],
      "metadata": {
        "id": "jyts9s7RU31W"
      }
    },
    {
      "cell_type": "code",
      "source": [
        "class Chessboard:\n",
        "    \"\"\"\n",
        "    Class describes properties of the chessboard and its connection with chess pieces.\n",
        "\n",
        "    field = first dimension is rows, second - columns. Contains blank squares (0) and pieces, each chessman in this list is an instance of the corresponding class;\n",
        "\n",
        "\n",
        "    \"\"\"\n",
        "    def __init__(self) -> None:\n",
        "        self.field = [[\".\" for _ in range(8)] for _ in range(8)]\n",
        "\n",
        "        def fill_field() -> None:\n",
        "            \"\"\"\n",
        "            Fill the chessboard with the pieces of both colors.\n",
        "            \"\"\"\n",
        "            for color in [\"black\", \"white\"]:\n",
        "                sp_line_idx, pawns_line_idx = (0, 1) if color == \"white\" else (7, 6) # Define the indexes of pawns' line and special line according to the color\n",
        "\n",
        "                pawns = [Pawn(x=x, y=pawns_line_idx, color=color) for x in range(8)]\n",
        "\n",
        "                f = lambda x: (x.set_color(color), x.set_y(sp_line_idx))\n",
        "                sec_line = [Rook(x=0), Knight(x=1), Bishop(x=2), Queen(x=3), King(x=4), Bishop(x=5), Knight(x=6), Rook(x=7)]\n",
        "                map(f, sec_line)\n",
        "\n",
        "                self.field[sp_line_idx], self.field[pawns_line_idx] = sec_line, pawns\n",
        "        \n",
        "        fill_field()\n",
        "\n",
        "    def show_desk(self) -> None:\n",
        "        print(\"   A B C D E F G H\")\n",
        "        print()\n",
        "        for i in range(len(self.field)):\n",
        "            print(f\"{8-i}\", end=\"  \")\n",
        "            for j in range(len(self.field[i])):\n",
        "                print(self.field[i][j], end=\" \")\n",
        "            print(\"\", end=\" \")\n",
        "            print(f\"{8-i}\")\n",
        "        print()\n",
        "        print(\"   A B C D E F G H\",)"
      ],
      "metadata": {
        "id": "sp14kMgfQyQk"
      },
      "execution_count": 134,
      "outputs": []
    },
    {
      "cell_type": "code",
      "source": [
        "d = Chessboard()\n",
        "d.show_desk()"
      ],
      "metadata": {
        "colab": {
          "base_uri": "https://localhost:8080/"
        },
        "id": "-s5rCZpZRNt4",
        "outputId": "dc670bd6-73e8-4471-84bc-abedc1294dc0"
      },
      "execution_count": 135,
      "outputs": [
        {
          "output_type": "stream",
          "name": "stdout",
          "text": [
            "   A B C D E F G H\n",
            "\n",
            "8  R N B Q K B N R  8\n",
            "7  P P P P P P P P  7\n",
            "6  . . . . . . . .  6\n",
            "5  . . . . . . . .  5\n",
            "4  . . . . . . . .  4\n",
            "3  . . . . . . . .  3\n",
            "2  p p p p p p p p  2\n",
            "1  R N B Q K B N R  1\n",
            "\n",
            "   A B C D E F G H\n"
          ]
        }
      ]
    },
    {
      "cell_type": "code",
      "source": [],
      "metadata": {
        "id": "UNwFRhQ9Z0cu"
      },
      "execution_count": 103,
      "outputs": []
    },
    {
      "cell_type": "code",
      "source": [],
      "metadata": {
        "id": "yO6ZFQR7c1X6"
      },
      "execution_count": null,
      "outputs": []
    }
  ]
}