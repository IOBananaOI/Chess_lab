{
  "nbformat": 4,
  "nbformat_minor": 0,
  "metadata": {
    "colab": {
      "provenance": []
    },
    "kernelspec": {
      "name": "python3",
      "display_name": "Python 3"
    },
    "language_info": {
      "name": "python"
    }
  },
  "cells": [
    {
      "cell_type": "code",
      "source": [
        "import re"
      ],
      "metadata": {
        "id": "c_MIEs0qpd2u"
      },
      "execution_count": 40,
      "outputs": []
    },
    {
      "cell_type": "markdown",
      "source": [
        "# Parent classes"
      ],
      "metadata": {
        "id": "yipJTT0fJYzJ"
      }
    },
    {
      "cell_type": "code",
      "execution_count": 5,
      "metadata": {
        "id": "xI3J9-pbru91"
      },
      "outputs": [],
      "source": [
        "class Chessman:\n",
        "    \"\"\" \n",
        "    Class describes parent class for each chess pieces.\n",
        "\n",
        "    x: horizontal coord. on the chessboard;\n",
        "    y: vertical coord. on the chessboard;\n",
        "    color: color of the chessman (\"black\" or \"white\");\n",
        "    symb: symbol, which is used to visualize chessman on the chessboard;\n",
        "    \n",
        "    make_move: describes which moves chessman can make on the chessboard; description of how the figure walks\n",
        "\n",
        "    \"\"\"\n",
        "    def __init__(self, x=None, y=None, color=None) -> None:\n",
        "        self.x = x\n",
        "        self.y = y\n",
        "        self.color = color\n",
        "        self.symb = None\n",
        "        self.selected = False\n",
        "\n",
        "    def __str__(self):\n",
        "        return self.symb if self.color == \"black\" else self.symb.upper()\n",
        "\n",
        "    def set_color(self, color: str) -> None:\n",
        "        self.color = color\n",
        "\n",
        "    def set_y(self, y: str) -> None:\n",
        "        self.y = y\n",
        "\n",
        "    def make_move(self) -> None:\n",
        "        pass"
      ]
    },
    {
      "cell_type": "markdown",
      "source": [
        "## Chessman's child classes"
      ],
      "metadata": {
        "id": "G33ga9fzKdpE"
      }
    },
    {
      "cell_type": "code",
      "source": [
        "class Pawn(Chessman):\n",
        "    def __init__(self, x=None, y=None, color=None) -> None:\n",
        "        self.x = x\n",
        "        self.y = y\n",
        "        self.color = color\n",
        "        self.symb = 'p'\n",
        "\n",
        "    def make_move(self):\n",
        "        \"\"\" \n",
        "        One cell towards, two if the chessman on it's half of board available. \n",
        "        \"\"\"\n",
        "        on_own_part = self.x in range(4) if self.color == 'white' else self.x in range(5, 8) # check if the pawn on his half of board\n",
        "\n",
        "        available_moves\n"
      ],
      "metadata": {
        "id": "7rSYG4GOKcK6"
      },
      "execution_count": 6,
      "outputs": []
    },
    {
      "cell_type": "code",
      "source": [
        "class Rook(Chessman):\n",
        "    def __init__(self, x=None, y=None, color=None) -> None:\n",
        "        self.x = x\n",
        "        self.y = y\n",
        "        self.color = color\n",
        "        self.symb = 'r'"
      ],
      "metadata": {
        "id": "_J5y_pcdKxmI"
      },
      "execution_count": 8,
      "outputs": []
    },
    {
      "cell_type": "code",
      "source": [
        "class Knight(Chessman):\n",
        "    def __init__(self, x=None, y=None, color=None) -> None:\n",
        "        self.x = x\n",
        "        self.y = y\n",
        "        self.color = color\n",
        "        self.symb = 'n'"
      ],
      "metadata": {
        "id": "HFqqpYM-KzuB"
      },
      "execution_count": 9,
      "outputs": []
    },
    {
      "cell_type": "code",
      "source": [
        "class Bishop(Chessman):\n",
        "    def __init__(self, x=None, y=None, color=None) -> None:\n",
        "        self.x = x\n",
        "        self.y = y\n",
        "        self.color = color\n",
        "        self.symb = 'b'"
      ],
      "metadata": {
        "id": "JvnhAB8pLI34"
      },
      "execution_count": 10,
      "outputs": []
    },
    {
      "cell_type": "code",
      "source": [
        "class King(Chessman):\n",
        "    def __init__(self, x=None, y=None, color=None) -> None:\n",
        "        self.x = x\n",
        "        self.y = y\n",
        "        self.color = color\n",
        "        self.symb = 'k'"
      ],
      "metadata": {
        "id": "vzRpZ6bLLWzp"
      },
      "execution_count": 11,
      "outputs": []
    },
    {
      "cell_type": "code",
      "source": [
        "class Queen(Chessman):\n",
        "    def __init__(self, x=None, y=None, color=None) -> None:\n",
        "        self.x = x\n",
        "        self.y = y\n",
        "        self.color = color\n",
        "        self.symb = 'q'"
      ],
      "metadata": {
        "id": "WqC_UKr-LcCl"
      },
      "execution_count": 12,
      "outputs": []
    },
    {
      "cell_type": "markdown",
      "source": [
        "# Chessboard class"
      ],
      "metadata": {
        "id": "jyts9s7RU31W"
      }
    },
    {
      "cell_type": "code",
      "source": [
        "class Chessboard:\n",
        "    \"\"\"\n",
        "    Class describes properties of the chessboard and its connection with chess pieces.\n",
        "\n",
        "    field: first dimension is rows, second - columns. Contains blank squares (.) and pieces, each chessman in this list is an instance of the corresponding class;\n",
        "\n",
        "    \"\"\"\n",
        "\n",
        "    def __init__(self) -> None:\n",
        "        self.field = [[\".\" for _ in range(8)] for _ in range(8)]\n",
        "        self.letters2idx = {'A': 0, 'B': 1, 'C': 2, 'D': 3, 'E': 4, 'F': 5, 'G': 6, 'H': 7} # dict for converting letters on the board to list's columns indexes\n",
        "        self.nums2idx = dict(zip([str(8-i) for i in range(8)], [i for i in range(8)])) # dict for converting nums on the board to list's rows indexes\n",
        "        self.current_color = 'white' # color whose turn it is to make a move\n",
        "\n",
        "        def fill_field() -> None:\n",
        "            \"\"\"\n",
        "            Fill the chessboard with the pieces of both colors.\n",
        "            \"\"\"\n",
        "\n",
        "            for color in [\"black\", \"white\"]:\n",
        "                sp_line_idx, pawns_line_idx = (0, 1) if color == \"white\" else (7, 6) # Define the indexes of pawns' line and special line according to the color\n",
        "\n",
        "                pawns = [Pawn(x=x, y=pawns_line_idx, color=color) for x in range(8)]\n",
        "\n",
        "                sec_line = [Rook(x=0), Knight(x=1), Bishop(x=2), Queen(x=3), King(x=4), Bishop(x=5), Knight(x=6), Rook(x=7)]\n",
        "\n",
        "                for f in sec_line: # set color and y-coord for all 'special' chessmen\n",
        "                    f.set_color(color)\n",
        "                    f.set_y(sp_line_idx)\n",
        "\n",
        "\n",
        "                self.field[sp_line_idx], self.field[pawns_line_idx] = sec_line, pawns\n",
        "        \n",
        "        fill_field()\n",
        "\n",
        "    def show_desk(self) -> None:\n",
        "        \"\"\" \n",
        "        Show the current state of the chessboard. \n",
        "        \"\"\"\n",
        "        print(\"   A B C D E F G H\")\n",
        "        print()\n",
        "        for i in range(len(self.field)):\n",
        "            print(f\"{8-i}\", end=\"  \")\n",
        "            for j in range(len(self.field[i])):\n",
        "                print(self.field[i][j], end=\" \")\n",
        "            print(\"\", end=\" \")\n",
        "            print(f\"{8-i}\")\n",
        "        print()\n",
        "        print(\"   A B C D E F G H\",)\n",
        "\n",
        "    def select_the_chessman(self):\n",
        "        \"\"\" \n",
        "        Describes chessman selection mechanism. \n",
        "        \"\"\"\n",
        "        try:\n",
        "            cell = input(\"Enter the coordinates of the cell separated by a space in format 'Letter Number': \")\n",
        "            if cell == \"exit\": return # exit from the game\n",
        " \n",
        "            prog = re.compile(\"[1-8A-Ha-h]\")\n",
        "            cells = prog.findall(cell)\n",
        "\n",
        "            assert len(cells) == 2 and (cells[0].isdigit() and cells[1].isalpha() or # check if the entered data is valid\n",
        "                                        cells[1].isdigit() and cells[0].isalpha())\n",
        "\n",
        "            b_n, b_l = (cells[0], cells[1]) if cells[0].isdigit() else (cells[1], cells[0]) # number, letter of the cell\n",
        "\n",
        "            row_idx, col_idx = self.nums2idx[b_n], self.letters2idx[b_l.upper()] # converting number and letter to corresponding indexes\n",
        "\n",
        "            sel_ch = self.field[row_idx][col_idx] # get the chessman from field\n",
        "\n",
        "            assert sel_ch != '.' and sel_ch.color == self.current_color # check if empty cell was selected or chessman of opponent\n",
        "\n",
        "        except AssertionError:\n",
        "            print(\"Incorrect data entered.\")\n",
        "            return self.select_the_chessman()\n",
        "\n",
        "        return self.field[row_idx][col_idx]"
      ],
      "metadata": {
        "id": "sp14kMgfQyQk"
      },
      "execution_count": 152,
      "outputs": []
    },
    {
      "cell_type": "code",
      "source": [
        "d = Chessboard()\n",
        "d.show_desk()"
      ],
      "metadata": {
        "colab": {
          "base_uri": "https://localhost:8080/"
        },
        "id": "-s5rCZpZRNt4",
        "outputId": "d97b5563-c8a2-4314-adf5-ed0c2a91ce9f"
      },
      "execution_count": 153,
      "outputs": [
        {
          "output_type": "stream",
          "name": "stdout",
          "text": [
            "   A B C D E F G H\n",
            "\n",
            "8  R N B Q K B N R  8\n",
            "7  P P P P P P P P  7\n",
            "6  . . . . . . . .  6\n",
            "5  . . . . . . . .  5\n",
            "4  . . . . . . . .  4\n",
            "3  . . . . . . . .  3\n",
            "2  p p p p p p p p  2\n",
            "1  r n b q k b n r  1\n",
            "\n",
            "   A B C D E F G H\n"
          ]
        }
      ]
    },
    {
      "cell_type": "code",
      "source": [
        "print(d.field[0][0])"
      ],
      "metadata": {
        "colab": {
          "base_uri": "https://localhost:8080/"
        },
        "id": "uj1JeUaby8yQ",
        "outputId": "61303374-477b-4841-ba1e-87d33c9144c9"
      },
      "execution_count": 161,
      "outputs": [
        {
          "output_type": "stream",
          "name": "stdout",
          "text": [
            "R\n"
          ]
        }
      ]
    },
    {
      "cell_type": "code",
      "source": [
        "5 in range(4)"
      ],
      "metadata": {
        "colab": {
          "base_uri": "https://localhost:8080/"
        },
        "id": "Oe_h8IRr5B3G",
        "outputId": "fb2c9979-61d2-4d5b-c40f-40eba199991c"
      },
      "execution_count": 158,
      "outputs": [
        {
          "output_type": "execute_result",
          "data": {
            "text/plain": [
              "False"
            ]
          },
          "metadata": {},
          "execution_count": 158
        }
      ]
    },
    {
      "cell_type": "code",
      "source": [],
      "metadata": {
        "id": "VfljL3Of5Oqq"
      },
      "execution_count": null,
      "outputs": []
    }
  ]
}