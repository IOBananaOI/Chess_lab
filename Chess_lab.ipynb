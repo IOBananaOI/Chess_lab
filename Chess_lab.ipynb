{
  "nbformat": 4,
  "nbformat_minor": 0,
  "metadata": {
    "colab": {
      "provenance": []
    },
    "kernelspec": {
      "name": "python3",
      "display_name": "Python 3"
    },
    "language_info": {
      "name": "python"
    }
  },
  "cells": [
    {
      "cell_type": "code",
      "source": [
        "import re"
      ],
      "metadata": {
        "id": "c_MIEs0qpd2u"
      },
      "execution_count": 2,
      "outputs": []
    },
    {
      "cell_type": "markdown",
      "source": [
        "# Parent classes"
      ],
      "metadata": {
        "id": "yipJTT0fJYzJ"
      }
    },
    {
      "cell_type": "code",
      "source": [
        "def is_available_move(c, color: str, coords: tuple) -> bool:   \n",
        "    \"\"\"\n",
        "    Check if the given move is available.\n",
        "\n",
        "    coords: tuple of coordinates in format (y, x), where y - number of row, x - number of column\n",
        "    \"\"\"\n",
        "    y = coords[0]\n",
        "    x = coords[1]\n",
        "    if all([coord in range(8) for coord in coords]): # checking for going beyond the boundaries of the board\n",
        "        chessman_on_cell = c.field[y][x]\n",
        "        \n",
        "        if chessman_on_cell == \".\" or chessman_on_cell.color != color:\n",
        "                # If the cell is empty or there stands enemy - available move\n",
        "            return True\n",
        "    \n",
        "    return False"
      ],
      "metadata": {
        "id": "2m981HNke-jn"
      },
      "execution_count": 237,
      "outputs": []
    },
    {
      "cell_type": "code",
      "execution_count": 238,
      "metadata": {
        "id": "xI3J9-pbru91"
      },
      "outputs": [],
      "source": [
        "class Chessman:\n",
        "    \"\"\" \n",
        "    Class describes parent class for each chess pieces.\n",
        "\n",
        "    x: horizontal coord. on the chessboard;\n",
        "    y: vertical coord. on the chessboard;\n",
        "    color: color of the chessman (\"black\" or \"white\");\n",
        "    symb: symbol, which is used to visualize chessman on the chessboard;\n",
        "    \n",
        "    make_move: describes which moves chessman can make on the chessboard; description of how the figure walks\n",
        "\n",
        "    \"\"\"\n",
        "    def __init__(self, x=None, y=None, color=None) -> None:\n",
        "        self.x = x\n",
        "        self.y = y\n",
        "        self.color = color\n",
        "        self.symb = None\n",
        "        self.selected = False\n",
        "        self.moves_map = []\n",
        "\n",
        "    def __str__(self):\n",
        "        return self.symb if self.color == \"black\" else self.symb.upper()\n",
        "\n",
        "    def set_color(self, color: str) -> None:\n",
        "        self.color = color\n",
        "\n",
        "    def set_y(self, y: str) -> None:\n",
        "        self.y = y\n",
        "\n",
        "    def make_move(self) -> None:\n",
        "        pass\n",
        "\n",
        "    def move_description(self) -> None:\n",
        "        pass\n",
        "\n",
        "    \n",
        "    def fill_moves_map(self, c, coords: tuple, on_own_part=None) -> None:\n",
        "        y = coords[0]\n",
        "        x = coords[1]\n",
        "\n",
        "        if self.__class__.__name__ == \"Pawn\":\n",
        "            curr_coords = coords # coords for tracking the possible move of the chessman\n",
        "\n",
        "            if is_available_move(c=c, color=self.color, coords=self.make_move(curr_coords)):\n",
        "                curr_coords = self.make_move(curr_coords)   \n",
        "                self.moves_map.append(curr_coords)\n",
        "                if on_own_part:\n",
        "                    self.fill_moves_map(c=c, coords=curr_coords, on_own_part=False)"
      ]
    },
    {
      "cell_type": "markdown",
      "source": [
        "## Chessman's child classes"
      ],
      "metadata": {
        "id": "G33ga9fzKdpE"
      }
    },
    {
      "cell_type": "code",
      "source": [
        "class Pawn(Chessman):\n",
        "    def __init__(self, x=None, y=None, color=None) -> None:\n",
        "        self.x = x\n",
        "        self.y = y\n",
        "        self.color = color\n",
        "        self.symb = 'p'\n",
        "        self.moves_map = [] # list contains all coords in tuple format (y, x), with cells where the chessman can move\n",
        "\n",
        "    def make_move(self, coords: tuple) -> tuple: # coords in tuple format (y, x)\n",
        "        direction = 1 if self.color == \"white\" else -1 # white chessmen on the board go down, black - up\n",
        "        y = coords[0] + direction\n",
        "        x = coords[1]\n",
        "        return (y, x)\n",
        "\n",
        "    def move_description(self, c: Chessboard):\n",
        "        \"\"\" \n",
        "        One cell towards, two if the chessman on its half of board. \n",
        "        \"\"\"\n",
        "        \n",
        "        on_own_part = self.x in range(4) if self.color == 'white' else self.x in range(5, 8) # check if the pawn on his half of board\n",
        "\n",
        "        self.fill_moves_map(c=c, coords=(self.y, self.x), on_own_part=on_own_part)"
      ],
      "metadata": {
        "id": "7rSYG4GOKcK6"
      },
      "execution_count": 239,
      "outputs": []
    },
    {
      "cell_type": "code",
      "source": [
        "class Rook(Chessman):\n",
        "    def __init__(self, x=None, y=None, color=None) -> None:\n",
        "        self.x = x\n",
        "        self.y = y\n",
        "        self.color = color\n",
        "        self.symb = 'r'"
      ],
      "metadata": {
        "id": "_J5y_pcdKxmI"
      },
      "execution_count": 240,
      "outputs": []
    },
    {
      "cell_type": "code",
      "source": [
        "class Knight(Chessman):\n",
        "    def __init__(self, x=None, y=None, color=None) -> None:\n",
        "        self.x = x\n",
        "        self.y = y\n",
        "        self.color = color\n",
        "        self.symb = 'n'"
      ],
      "metadata": {
        "id": "HFqqpYM-KzuB"
      },
      "execution_count": 241,
      "outputs": []
    },
    {
      "cell_type": "code",
      "source": [
        "class Bishop(Chessman):\n",
        "    def __init__(self, x=None, y=None, color=None) -> None:\n",
        "        self.x = x\n",
        "        self.y = y\n",
        "        self.color = color\n",
        "        self.symb = 'b'"
      ],
      "metadata": {
        "id": "JvnhAB8pLI34"
      },
      "execution_count": 242,
      "outputs": []
    },
    {
      "cell_type": "code",
      "source": [
        "class King(Chessman):\n",
        "    def __init__(self, x=None, y=None, color=None) -> None:\n",
        "        self.x = x\n",
        "        self.y = y\n",
        "        self.color = color\n",
        "        self.symb = 'k'"
      ],
      "metadata": {
        "id": "vzRpZ6bLLWzp"
      },
      "execution_count": 243,
      "outputs": []
    },
    {
      "cell_type": "code",
      "source": [
        "class Queen(Chessman):\n",
        "    def __init__(self, x=None, y=None, color=None) -> None:\n",
        "        self.x = x\n",
        "        self.y = y\n",
        "        self.color = color\n",
        "        self.symb = 'q'"
      ],
      "metadata": {
        "id": "WqC_UKr-LcCl"
      },
      "execution_count": 244,
      "outputs": []
    },
    {
      "cell_type": "markdown",
      "source": [
        "# Chessboard class"
      ],
      "metadata": {
        "id": "jyts9s7RU31W"
      }
    },
    {
      "cell_type": "code",
      "source": [
        "class Chessboard:\n",
        "    \"\"\"\n",
        "    Class describes properties of the chessboard and its connection with chess pieces.\n",
        "\n",
        "    field: first dimension is rows, second - columns. Contains blank squares (.) and pieces, each chessman in this list is an instance of the corresponding class;\n",
        "\n",
        "    \"\"\"\n",
        "\n",
        "    def __init__(self) -> None:\n",
        "        self.field = [[\".\" for _ in range(8)] for _ in range(8)]\n",
        "        self.letters2idx = {'A': 0, 'B': 1, 'C': 2, 'D': 3, 'E': 4, 'F': 5, 'G': 6, 'H': 7} # dict for converting letters on the board to list's columns indexes\n",
        "        self.nums2idx = dict(zip([str(8-i) for i in range(8)], [i for i in range(8)])) # dict for converting nums on the board to list's rows indexes\n",
        "        self.current_color = 'white' # color whose turn it is to make a move\n",
        "\n",
        "        def fill_field() -> None:\n",
        "            \"\"\"\n",
        "            Fill the chessboard with the pieces of both colors.\n",
        "            \"\"\"\n",
        "\n",
        "            for color in [\"black\", \"white\"]:\n",
        "                sp_line_idx, pawns_line_idx = (0, 1) if color == \"white\" else (7, 6) # Define the indexes of pawns' line and special line according to the color\n",
        "\n",
        "                pawns = [Pawn(x=x, y=pawns_line_idx, color=color) for x in range(8)]\n",
        "\n",
        "                sec_line = [Rook(x=0), Knight(x=1), Bishop(x=2), Queen(x=3), King(x=4), Bishop(x=5), Knight(x=6), Rook(x=7)]\n",
        "\n",
        "                for f in sec_line: # set color and y-coord for all 'special' chessmen\n",
        "                    f.set_color(color)\n",
        "                    f.set_y(sp_line_idx)\n",
        "\n",
        "\n",
        "                self.field[sp_line_idx], self.field[pawns_line_idx] = sec_line, pawns\n",
        "        \n",
        "        fill_field()\n",
        "\n",
        "    def show_desk(self) -> None:\n",
        "        \"\"\" \n",
        "        Show the current state of the chessboard. \n",
        "        \"\"\"\n",
        "        print(\"   A B C D E F G H\")\n",
        "        print()\n",
        "        for i in range(len(self.field)):\n",
        "            print(f\"{8-i}\", end=\"  \")\n",
        "            for j in range(len(self.field[i])):\n",
        "                print(self.field[i][j], end=\" \")\n",
        "            print(\"\", end=\" \")\n",
        "            print(f\"{8-i}\")\n",
        "        print()\n",
        "        print(\"   A B C D E F G H\",)\n",
        "\n",
        "    def select_the_chessman(self):\n",
        "        \"\"\" \n",
        "        Describes chessman selection mechanism. \n",
        "        \"\"\"\n",
        "        try:\n",
        "            cell = input(\"Enter the coordinates of the cell separated by a space in format 'Letter Number': \")\n",
        "            if cell == \"exit\": return # exit from the game\n",
        " \n",
        "            prog = re.compile(\"[1-8A-Ha-h]\")\n",
        "            cells = prog.findall(cell)\n",
        "\n",
        "            assert len(cells) == 2 and (cells[0].isdigit() and cells[1].isalpha() or # check if the entered data is valid\n",
        "                                        cells[1].isdigit() and cells[0].isalpha())\n",
        "\n",
        "            b_n, b_l = (cells[0], cells[1]) if cells[0].isdigit() else (cells[1], cells[0]) # number, letter of the cell\n",
        "\n",
        "            row_idx, col_idx = self.nums2idx[b_n], self.letters2idx[b_l.upper()] # converting number and letter to corresponding indexes\n",
        "\n",
        "            sel_ch = self.field[row_idx][col_idx] # get the chessman from field\n",
        "\n",
        "            assert sel_ch != '.' and sel_ch.color == self.current_color # check if empty cell or chessman of opponent was selected\n",
        "\n",
        "        except AssertionError:\n",
        "            print(\"Incorrect data entered.\")\n",
        "            return self.select_the_chessman()\n",
        "\n",
        "        sel_ch.move_description(self)\n",
        "        return sel_ch.moves_map"
      ],
      "metadata": {
        "id": "sp14kMgfQyQk"
      },
      "execution_count": 245,
      "outputs": []
    },
    {
      "cell_type": "code",
      "source": [
        "d = Chessboard()\n",
        "d.show_desk()\n",
        "d.select_the_chessman()"
      ],
      "metadata": {
        "colab": {
          "base_uri": "https://localhost:8080/"
        },
        "id": "-s5rCZpZRNt4",
        "outputId": "f4d6e5bc-42dc-4575-b4cd-ba79c120c059"
      },
      "execution_count": 246,
      "outputs": [
        {
          "name": "stdout",
          "output_type": "stream",
          "text": [
            "   A B C D E F G H\n",
            "\n",
            "8  R N B Q K B N R  8\n",
            "7  P P P P P P P P  7\n",
            "6  . . . . . . . .  6\n",
            "5  . . . . . . . .  5\n",
            "4  . . . . . . . .  4\n",
            "3  . . . . . . . .  3\n",
            "2  p p p p p p p p  2\n",
            "1  r n b q k b n r  1\n",
            "\n",
            "   A B C D E F G H\n",
            "Enter the coordinates of the cell separated by a space in format 'Letter Number': A7\n"
          ]
        },
        {
          "output_type": "execute_result",
          "data": {
            "text/plain": [
              "[(2, 0), (3, 0)]"
            ]
          },
          "metadata": {},
          "execution_count": 246
        }
      ]
    },
    {
      "cell_type": "code",
      "source": [],
      "metadata": {
        "id": "zdzKAFxyNgYB"
      },
      "execution_count": 226,
      "outputs": []
    }
  ]
}